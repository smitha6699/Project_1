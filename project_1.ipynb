{
 "cells": [
  {
   "cell_type": "markdown",
   "metadata": {},
   "source": [
    "# importing the libraries"
   ]
  },
  {
   "cell_type": "code",
   "execution_count": 2,
   "metadata": {},
   "outputs": [],
   "source": [
    "import pandas as pd"
   ]
  },
  {
   "cell_type": "markdown",
   "metadata": {},
   "source": [
    "# read dataset"
   ]
  },
  {
   "cell_type": "code",
   "execution_count": 3,
   "metadata": {},
   "outputs": [
    {
     "data": {
      "text/html": [
       "<div>\n",
       "<style scoped>\n",
       "    .dataframe tbody tr th:only-of-type {\n",
       "        vertical-align: middle;\n",
       "    }\n",
       "\n",
       "    .dataframe tbody tr th {\n",
       "        vertical-align: top;\n",
       "    }\n",
       "\n",
       "    .dataframe thead th {\n",
       "        text-align: right;\n",
       "    }\n",
       "</style>\n",
       "<table border=\"1\" class=\"dataframe\">\n",
       "  <thead>\n",
       "    <tr style=\"text-align: right;\">\n",
       "      <th></th>\n",
       "      <th>Date</th>\n",
       "      <th>btc_market_price</th>\n",
       "      <th>btc_total_bitcoins</th>\n",
       "      <th>btc_market_cap</th>\n",
       "      <th>btc_trade_volume</th>\n",
       "      <th>btc_blocks_size</th>\n",
       "      <th>btc_avg_block_size</th>\n",
       "      <th>btc_n_orphaned_blocks</th>\n",
       "      <th>btc_n_transactions_per_block</th>\n",
       "      <th>btc_median_confirmation_time</th>\n",
       "      <th>...</th>\n",
       "      <th>btc_cost_per_transaction_percent</th>\n",
       "      <th>btc_cost_per_transaction</th>\n",
       "      <th>btc_n_unique_addresses</th>\n",
       "      <th>btc_n_transactions</th>\n",
       "      <th>btc_n_transactions_total</th>\n",
       "      <th>btc_n_transactions_excluding_popular</th>\n",
       "      <th>btc_n_transactions_excluding_chains_longer_than_100</th>\n",
       "      <th>btc_output_volume</th>\n",
       "      <th>btc_estimated_transaction_volume</th>\n",
       "      <th>btc_estimated_transaction_volume_usd</th>\n",
       "    </tr>\n",
       "  </thead>\n",
       "  <tbody>\n",
       "    <tr>\n",
       "      <th>0</th>\n",
       "      <td>2/17/2010</td>\n",
       "      <td>0.0</td>\n",
       "      <td>2043200.0</td>\n",
       "      <td>0.0</td>\n",
       "      <td>0.0</td>\n",
       "      <td>0.0</td>\n",
       "      <td>0.000235</td>\n",
       "      <td>0</td>\n",
       "      <td>1.0</td>\n",
       "      <td>0.0</td>\n",
       "      <td>...</td>\n",
       "      <td>31.781022</td>\n",
       "      <td>0.0</td>\n",
       "      <td>241</td>\n",
       "      <td>244</td>\n",
       "      <td>41240</td>\n",
       "      <td>244</td>\n",
       "      <td>244</td>\n",
       "      <td>65173.13</td>\n",
       "      <td>36500.0</td>\n",
       "      <td>0.0</td>\n",
       "    </tr>\n",
       "    <tr>\n",
       "      <th>1</th>\n",
       "      <td>2/18/2010</td>\n",
       "      <td>0.0</td>\n",
       "      <td>2054650.0</td>\n",
       "      <td>0.0</td>\n",
       "      <td>0.0</td>\n",
       "      <td>0.0</td>\n",
       "      <td>0.000241</td>\n",
       "      <td>0</td>\n",
       "      <td>1.0</td>\n",
       "      <td>0.0</td>\n",
       "      <td>...</td>\n",
       "      <td>154.463801</td>\n",
       "      <td>0.0</td>\n",
       "      <td>234</td>\n",
       "      <td>235</td>\n",
       "      <td>41475</td>\n",
       "      <td>235</td>\n",
       "      <td>235</td>\n",
       "      <td>18911.74</td>\n",
       "      <td>7413.0</td>\n",
       "      <td>0.0</td>\n",
       "    </tr>\n",
       "    <tr>\n",
       "      <th>2</th>\n",
       "      <td>2/19/2010</td>\n",
       "      <td>0.0</td>\n",
       "      <td>2063600.0</td>\n",
       "      <td>0.0</td>\n",
       "      <td>0.0</td>\n",
       "      <td>0.0</td>\n",
       "      <td>0.000228</td>\n",
       "      <td>0</td>\n",
       "      <td>1.0</td>\n",
       "      <td>0.0</td>\n",
       "      <td>...</td>\n",
       "      <td>1278.516635</td>\n",
       "      <td>0.0</td>\n",
       "      <td>185</td>\n",
       "      <td>183</td>\n",
       "      <td>41658</td>\n",
       "      <td>183</td>\n",
       "      <td>183</td>\n",
       "      <td>9749.98</td>\n",
       "      <td>700.0</td>\n",
       "      <td>0.0</td>\n",
       "    </tr>\n",
       "    <tr>\n",
       "      <th>3</th>\n",
       "      <td>2/20/2010</td>\n",
       "      <td>0.0</td>\n",
       "      <td>2074700.0</td>\n",
       "      <td>0.0</td>\n",
       "      <td>0.0</td>\n",
       "      <td>0.0</td>\n",
       "      <td>0.000218</td>\n",
       "      <td>0</td>\n",
       "      <td>1.0</td>\n",
       "      <td>0.0</td>\n",
       "      <td>...</td>\n",
       "      <td>22186.687990</td>\n",
       "      <td>0.0</td>\n",
       "      <td>224</td>\n",
       "      <td>224</td>\n",
       "      <td>41882</td>\n",
       "      <td>224</td>\n",
       "      <td>224</td>\n",
       "      <td>11150.03</td>\n",
       "      <td>50.0</td>\n",
       "      <td>0.0</td>\n",
       "    </tr>\n",
       "    <tr>\n",
       "      <th>4</th>\n",
       "      <td>2/21/2010</td>\n",
       "      <td>0.0</td>\n",
       "      <td>2085400.0</td>\n",
       "      <td>0.0</td>\n",
       "      <td>0.0</td>\n",
       "      <td>0.0</td>\n",
       "      <td>0.000234</td>\n",
       "      <td>0</td>\n",
       "      <td>1.0</td>\n",
       "      <td>0.0</td>\n",
       "      <td>...</td>\n",
       "      <td>689.179876</td>\n",
       "      <td>0.0</td>\n",
       "      <td>218</td>\n",
       "      <td>218</td>\n",
       "      <td>42100</td>\n",
       "      <td>218</td>\n",
       "      <td>218</td>\n",
       "      <td>12266.83</td>\n",
       "      <td>1553.0</td>\n",
       "      <td>0.0</td>\n",
       "    </tr>\n",
       "  </tbody>\n",
       "</table>\n",
       "<p>5 rows × 24 columns</p>\n",
       "</div>"
      ],
      "text/plain": [
       "        Date  btc_market_price  btc_total_bitcoins  btc_market_cap  \\\n",
       "0  2/17/2010               0.0           2043200.0             0.0   \n",
       "1  2/18/2010               0.0           2054650.0             0.0   \n",
       "2  2/19/2010               0.0           2063600.0             0.0   \n",
       "3  2/20/2010               0.0           2074700.0             0.0   \n",
       "4  2/21/2010               0.0           2085400.0             0.0   \n",
       "\n",
       "   btc_trade_volume  btc_blocks_size  btc_avg_block_size  \\\n",
       "0               0.0              0.0            0.000235   \n",
       "1               0.0              0.0            0.000241   \n",
       "2               0.0              0.0            0.000228   \n",
       "3               0.0              0.0            0.000218   \n",
       "4               0.0              0.0            0.000234   \n",
       "\n",
       "   btc_n_orphaned_blocks  btc_n_transactions_per_block  \\\n",
       "0                      0                           1.0   \n",
       "1                      0                           1.0   \n",
       "2                      0                           1.0   \n",
       "3                      0                           1.0   \n",
       "4                      0                           1.0   \n",
       "\n",
       "   btc_median_confirmation_time  ...  btc_cost_per_transaction_percent  \\\n",
       "0                           0.0  ...                         31.781022   \n",
       "1                           0.0  ...                        154.463801   \n",
       "2                           0.0  ...                       1278.516635   \n",
       "3                           0.0  ...                      22186.687990   \n",
       "4                           0.0  ...                        689.179876   \n",
       "\n",
       "   btc_cost_per_transaction  btc_n_unique_addresses  btc_n_transactions  \\\n",
       "0                       0.0                     241                 244   \n",
       "1                       0.0                     234                 235   \n",
       "2                       0.0                     185                 183   \n",
       "3                       0.0                     224                 224   \n",
       "4                       0.0                     218                 218   \n",
       "\n",
       "   btc_n_transactions_total  btc_n_transactions_excluding_popular  \\\n",
       "0                     41240                                   244   \n",
       "1                     41475                                   235   \n",
       "2                     41658                                   183   \n",
       "3                     41882                                   224   \n",
       "4                     42100                                   218   \n",
       "\n",
       "   btc_n_transactions_excluding_chains_longer_than_100  btc_output_volume  \\\n",
       "0                                                244             65173.13   \n",
       "1                                                235             18911.74   \n",
       "2                                                183              9749.98   \n",
       "3                                                224             11150.03   \n",
       "4                                                218             12266.83   \n",
       "\n",
       "   btc_estimated_transaction_volume  btc_estimated_transaction_volume_usd  \n",
       "0                           36500.0                                   0.0  \n",
       "1                            7413.0                                   0.0  \n",
       "2                             700.0                                   0.0  \n",
       "3                              50.0                                   0.0  \n",
       "4                            1553.0                                   0.0  \n",
       "\n",
       "[5 rows x 24 columns]"
      ]
     },
     "execution_count": 3,
     "metadata": {},
     "output_type": "execute_result"
    }
   ],
   "source": [
    "df=pd.read_csv(\"c:\\\\bitcoin_dataset.csv\")\n",
    "df.head()"
   ]
  },
  {
   "cell_type": "code",
   "execution_count": 4,
   "metadata": {},
   "outputs": [
    {
     "data": {
      "text/plain": [
       "13.6888"
      ]
     },
     "execution_count": 4,
     "metadata": {},
     "output_type": "execute_result"
    }
   ],
   "source": [
    "df.btc_market_price[1023]"
   ]
  },
  {
   "cell_type": "markdown",
   "metadata": {},
   "source": [
    "# EDA"
   ]
  },
  {
   "cell_type": "code",
   "execution_count": 5,
   "metadata": {},
   "outputs": [
    {
     "data": {
      "text/html": [
       "<div>\n",
       "<style scoped>\n",
       "    .dataframe tbody tr th:only-of-type {\n",
       "        vertical-align: middle;\n",
       "    }\n",
       "\n",
       "    .dataframe tbody tr th {\n",
       "        vertical-align: top;\n",
       "    }\n",
       "\n",
       "    .dataframe thead th {\n",
       "        text-align: right;\n",
       "    }\n",
       "</style>\n",
       "<table border=\"1\" class=\"dataframe\">\n",
       "  <thead>\n",
       "    <tr style=\"text-align: right;\">\n",
       "      <th></th>\n",
       "      <th>btc_market_price</th>\n",
       "      <th>btc_total_bitcoins</th>\n",
       "      <th>btc_market_cap</th>\n",
       "      <th>btc_trade_volume</th>\n",
       "      <th>btc_blocks_size</th>\n",
       "      <th>btc_avg_block_size</th>\n",
       "      <th>btc_n_orphaned_blocks</th>\n",
       "      <th>btc_n_transactions_per_block</th>\n",
       "      <th>btc_median_confirmation_time</th>\n",
       "      <th>btc_hash_rate</th>\n",
       "      <th>...</th>\n",
       "      <th>btc_cost_per_transaction_percent</th>\n",
       "      <th>btc_cost_per_transaction</th>\n",
       "      <th>btc_n_unique_addresses</th>\n",
       "      <th>btc_n_transactions</th>\n",
       "      <th>btc_n_transactions_total</th>\n",
       "      <th>btc_n_transactions_excluding_popular</th>\n",
       "      <th>btc_n_transactions_excluding_chains_longer_than_100</th>\n",
       "      <th>btc_output_volume</th>\n",
       "      <th>btc_estimated_transaction_volume</th>\n",
       "      <th>btc_estimated_transaction_volume_usd</th>\n",
       "    </tr>\n",
       "  </thead>\n",
       "  <tbody>\n",
       "    <tr>\n",
       "      <th>count</th>\n",
       "      <td>2906.000000</td>\n",
       "      <td>2.879000e+03</td>\n",
       "      <td>2.906000e+03</td>\n",
       "      <td>2.885000e+03</td>\n",
       "      <td>2877.000000</td>\n",
       "      <td>2906.000000</td>\n",
       "      <td>2906.000000</td>\n",
       "      <td>2906.000000</td>\n",
       "      <td>2894.000000</td>\n",
       "      <td>2.906000e+03</td>\n",
       "      <td>...</td>\n",
       "      <td>2906.000000</td>\n",
       "      <td>2906.000000</td>\n",
       "      <td>2.906000e+03</td>\n",
       "      <td>2906.000000</td>\n",
       "      <td>2.906000e+03</td>\n",
       "      <td>2906.000000</td>\n",
       "      <td>2906.000000</td>\n",
       "      <td>2.906000e+03</td>\n",
       "      <td>2.906000e+03</td>\n",
       "      <td>2.906000e+03</td>\n",
       "    </tr>\n",
       "    <tr>\n",
       "      <th>mean</th>\n",
       "      <td>839.104218</td>\n",
       "      <td>1.151138e+07</td>\n",
       "      <td>1.344352e+10</td>\n",
       "      <td>7.398381e+07</td>\n",
       "      <td>35505.502848</td>\n",
       "      <td>0.350366</td>\n",
       "      <td>0.364074</td>\n",
       "      <td>671.673651</td>\n",
       "      <td>7.501113</td>\n",
       "      <td>1.244070e+06</td>\n",
       "      <td>...</td>\n",
       "      <td>66.747821</td>\n",
       "      <td>14.639125</td>\n",
       "      <td>1.937861e+05</td>\n",
       "      <td>102081.138334</td>\n",
       "      <td>6.844558e+07</td>\n",
       "      <td>94348.852374</td>\n",
       "      <td>63140.320028</td>\n",
       "      <td>1.566216e+06</td>\n",
       "      <td>2.036475e+05</td>\n",
       "      <td>2.024338e+08</td>\n",
       "    </tr>\n",
       "    <tr>\n",
       "      <th>std</th>\n",
       "      <td>2304.972497</td>\n",
       "      <td>4.200024e+06</td>\n",
       "      <td>3.866841e+10</td>\n",
       "      <td>2.924228e+08</td>\n",
       "      <td>43618.633821</td>\n",
       "      <td>0.353168</td>\n",
       "      <td>0.842259</td>\n",
       "      <td>689.561322</td>\n",
       "      <td>4.974549</td>\n",
       "      <td>2.924141e+06</td>\n",
       "      <td>...</td>\n",
       "      <td>1761.894646</td>\n",
       "      <td>20.536083</td>\n",
       "      <td>2.089146e+05</td>\n",
       "      <td>103896.929350</td>\n",
       "      <td>8.285341e+07</td>\n",
       "      <td>103966.111763</td>\n",
       "      <td>69687.052174</td>\n",
       "      <td>2.278910e+06</td>\n",
       "      <td>2.682781e+05</td>\n",
       "      <td>5.800513e+08</td>\n",
       "    </tr>\n",
       "    <tr>\n",
       "      <th>min</th>\n",
       "      <td>0.000000</td>\n",
       "      <td>2.043200e+06</td>\n",
       "      <td>0.000000e+00</td>\n",
       "      <td>0.000000e+00</td>\n",
       "      <td>0.000000</td>\n",
       "      <td>0.000216</td>\n",
       "      <td>0.000000</td>\n",
       "      <td>1.000000</td>\n",
       "      <td>0.000000</td>\n",
       "      <td>2.250000e-05</td>\n",
       "      <td>...</td>\n",
       "      <td>0.136531</td>\n",
       "      <td>0.000000</td>\n",
       "      <td>1.100000e+02</td>\n",
       "      <td>118.000000</td>\n",
       "      <td>4.124000e+04</td>\n",
       "      <td>118.000000</td>\n",
       "      <td>118.000000</td>\n",
       "      <td>6.150000e+03</td>\n",
       "      <td>7.000000e+00</td>\n",
       "      <td>0.000000e+00</td>\n",
       "    </tr>\n",
       "    <tr>\n",
       "      <th>25%</th>\n",
       "      <td>6.653465</td>\n",
       "      <td>8.485300e+06</td>\n",
       "      <td>5.363081e+07</td>\n",
       "      <td>2.916456e+05</td>\n",
       "      <td>781.000000</td>\n",
       "      <td>0.024177</td>\n",
       "      <td>0.000000</td>\n",
       "      <td>54.000000</td>\n",
       "      <td>6.066667</td>\n",
       "      <td>1.160880e+01</td>\n",
       "      <td>...</td>\n",
       "      <td>1.181945</td>\n",
       "      <td>4.156470</td>\n",
       "      <td>1.675475e+04</td>\n",
       "      <td>8025.250000</td>\n",
       "      <td>2.413376e+06</td>\n",
       "      <td>6813.500000</td>\n",
       "      <td>6765.500000</td>\n",
       "      <td>4.901712e+05</td>\n",
       "      <td>9.600325e+04</td>\n",
       "      <td>9.581680e+05</td>\n",
       "    </tr>\n",
       "    <tr>\n",
       "      <th>50%</th>\n",
       "      <td>235.130000</td>\n",
       "      <td>1.243115e+07</td>\n",
       "      <td>3.346869e+09</td>\n",
       "      <td>1.001414e+07</td>\n",
       "      <td>15183.000000</td>\n",
       "      <td>0.196022</td>\n",
       "      <td>0.000000</td>\n",
       "      <td>375.000000</td>\n",
       "      <td>7.916667</td>\n",
       "      <td>2.176189e+04</td>\n",
       "      <td>...</td>\n",
       "      <td>2.493564</td>\n",
       "      <td>7.822430</td>\n",
       "      <td>1.304450e+05</td>\n",
       "      <td>62337.000000</td>\n",
       "      <td>3.255271e+07</td>\n",
       "      <td>53483.000000</td>\n",
       "      <td>35283.500000</td>\n",
       "      <td>1.105205e+06</td>\n",
       "      <td>1.784685e+05</td>\n",
       "      <td>3.742576e+07</td>\n",
       "    </tr>\n",
       "    <tr>\n",
       "      <th>75%</th>\n",
       "      <td>594.191164</td>\n",
       "      <td>1.520051e+07</td>\n",
       "      <td>8.075525e+09</td>\n",
       "      <td>2.834038e+07</td>\n",
       "      <td>58293.000000</td>\n",
       "      <td>0.676065</td>\n",
       "      <td>0.000000</td>\n",
       "      <td>1232.995223</td>\n",
       "      <td>10.208333</td>\n",
       "      <td>1.035363e+06</td>\n",
       "      <td>...</td>\n",
       "      <td>5.915591</td>\n",
       "      <td>14.800589</td>\n",
       "      <td>3.603765e+05</td>\n",
       "      <td>190471.250000</td>\n",
       "      <td>1.080663e+08</td>\n",
       "      <td>185901.750000</td>\n",
       "      <td>113793.250000</td>\n",
       "      <td>2.031654e+06</td>\n",
       "      <td>2.588046e+05</td>\n",
       "      <td>1.312499e+08</td>\n",
       "    </tr>\n",
       "    <tr>\n",
       "      <th>max</th>\n",
       "      <td>19498.683330</td>\n",
       "      <td>1.683769e+07</td>\n",
       "      <td>3.270000e+11</td>\n",
       "      <td>5.352016e+09</td>\n",
       "      <td>154444.590300</td>\n",
       "      <td>1.110327</td>\n",
       "      <td>7.000000</td>\n",
       "      <td>2722.625000</td>\n",
       "      <td>47.733333</td>\n",
       "      <td>2.160975e+07</td>\n",
       "      <td>...</td>\n",
       "      <td>88571.428570</td>\n",
       "      <td>161.686071</td>\n",
       "      <td>1.072861e+06</td>\n",
       "      <td>490644.000000</td>\n",
       "      <td>2.966888e+08</td>\n",
       "      <td>470650.000000</td>\n",
       "      <td>318896.000000</td>\n",
       "      <td>4.599222e+07</td>\n",
       "      <td>5.825066e+06</td>\n",
       "      <td>5.760245e+09</td>\n",
       "    </tr>\n",
       "  </tbody>\n",
       "</table>\n",
       "<p>8 rows × 23 columns</p>\n",
       "</div>"
      ],
      "text/plain": [
       "       btc_market_price  btc_total_bitcoins  btc_market_cap  btc_trade_volume  \\\n",
       "count       2906.000000        2.879000e+03    2.906000e+03      2.885000e+03   \n",
       "mean         839.104218        1.151138e+07    1.344352e+10      7.398381e+07   \n",
       "std         2304.972497        4.200024e+06    3.866841e+10      2.924228e+08   \n",
       "min            0.000000        2.043200e+06    0.000000e+00      0.000000e+00   \n",
       "25%            6.653465        8.485300e+06    5.363081e+07      2.916456e+05   \n",
       "50%          235.130000        1.243115e+07    3.346869e+09      1.001414e+07   \n",
       "75%          594.191164        1.520051e+07    8.075525e+09      2.834038e+07   \n",
       "max        19498.683330        1.683769e+07    3.270000e+11      5.352016e+09   \n",
       "\n",
       "       btc_blocks_size  btc_avg_block_size  btc_n_orphaned_blocks  \\\n",
       "count      2877.000000         2906.000000            2906.000000   \n",
       "mean      35505.502848            0.350366               0.364074   \n",
       "std       43618.633821            0.353168               0.842259   \n",
       "min           0.000000            0.000216               0.000000   \n",
       "25%         781.000000            0.024177               0.000000   \n",
       "50%       15183.000000            0.196022               0.000000   \n",
       "75%       58293.000000            0.676065               0.000000   \n",
       "max      154444.590300            1.110327               7.000000   \n",
       "\n",
       "       btc_n_transactions_per_block  btc_median_confirmation_time  \\\n",
       "count                   2906.000000                   2894.000000   \n",
       "mean                     671.673651                      7.501113   \n",
       "std                      689.561322                      4.974549   \n",
       "min                        1.000000                      0.000000   \n",
       "25%                       54.000000                      6.066667   \n",
       "50%                      375.000000                      7.916667   \n",
       "75%                     1232.995223                     10.208333   \n",
       "max                     2722.625000                     47.733333   \n",
       "\n",
       "       btc_hash_rate  ...  btc_cost_per_transaction_percent  \\\n",
       "count   2.906000e+03  ...                       2906.000000   \n",
       "mean    1.244070e+06  ...                         66.747821   \n",
       "std     2.924141e+06  ...                       1761.894646   \n",
       "min     2.250000e-05  ...                          0.136531   \n",
       "25%     1.160880e+01  ...                          1.181945   \n",
       "50%     2.176189e+04  ...                          2.493564   \n",
       "75%     1.035363e+06  ...                          5.915591   \n",
       "max     2.160975e+07  ...                      88571.428570   \n",
       "\n",
       "       btc_cost_per_transaction  btc_n_unique_addresses  btc_n_transactions  \\\n",
       "count               2906.000000            2.906000e+03         2906.000000   \n",
       "mean                  14.639125            1.937861e+05       102081.138334   \n",
       "std                   20.536083            2.089146e+05       103896.929350   \n",
       "min                    0.000000            1.100000e+02          118.000000   \n",
       "25%                    4.156470            1.675475e+04         8025.250000   \n",
       "50%                    7.822430            1.304450e+05        62337.000000   \n",
       "75%                   14.800589            3.603765e+05       190471.250000   \n",
       "max                  161.686071            1.072861e+06       490644.000000   \n",
       "\n",
       "       btc_n_transactions_total  btc_n_transactions_excluding_popular  \\\n",
       "count              2.906000e+03                           2906.000000   \n",
       "mean               6.844558e+07                          94348.852374   \n",
       "std                8.285341e+07                         103966.111763   \n",
       "min                4.124000e+04                            118.000000   \n",
       "25%                2.413376e+06                           6813.500000   \n",
       "50%                3.255271e+07                          53483.000000   \n",
       "75%                1.080663e+08                         185901.750000   \n",
       "max                2.966888e+08                         470650.000000   \n",
       "\n",
       "       btc_n_transactions_excluding_chains_longer_than_100  btc_output_volume  \\\n",
       "count                                        2906.000000         2.906000e+03   \n",
       "mean                                        63140.320028         1.566216e+06   \n",
       "std                                         69687.052174         2.278910e+06   \n",
       "min                                           118.000000         6.150000e+03   \n",
       "25%                                          6765.500000         4.901712e+05   \n",
       "50%                                         35283.500000         1.105205e+06   \n",
       "75%                                        113793.250000         2.031654e+06   \n",
       "max                                        318896.000000         4.599222e+07   \n",
       "\n",
       "       btc_estimated_transaction_volume  btc_estimated_transaction_volume_usd  \n",
       "count                      2.906000e+03                          2.906000e+03  \n",
       "mean                       2.036475e+05                          2.024338e+08  \n",
       "std                        2.682781e+05                          5.800513e+08  \n",
       "min                        7.000000e+00                          0.000000e+00  \n",
       "25%                        9.600325e+04                          9.581680e+05  \n",
       "50%                        1.784685e+05                          3.742576e+07  \n",
       "75%                        2.588046e+05                          1.312499e+08  \n",
       "max                        5.825066e+06                          5.760245e+09  \n",
       "\n",
       "[8 rows x 23 columns]"
      ]
     },
     "execution_count": 5,
     "metadata": {},
     "output_type": "execute_result"
    }
   ],
   "source": [
    "df.describe()"
   ]
  },
  {
   "cell_type": "code",
   "execution_count": 6,
   "metadata": {},
   "outputs": [],
   "source": [
    "import seaborn as sns"
   ]
  },
  {
   "cell_type": "code",
   "execution_count": 7,
   "metadata": {},
   "outputs": [
    {
     "data": {
      "text/plain": [
       "<seaborn.axisgrid.PairGrid at 0x25842974070>"
      ]
     },
     "execution_count": 7,
     "metadata": {},
     "output_type": "execute_result"
    },
    {
     "data": {
      "image/png": "[encoded data removed]",
      "text/plain": [
       "<Figure size 3420x180 with 19 Axes>"
      ]
     },
     "metadata": {
      "needs_background": "light"
     },
     "output_type": "display_data"
    }
   ],
   "source": [
    "sns.pairplot(df, x_vars = ['btc_total_bitcoins','btc_market_cap','btc_trade_volume','btc_blocks_size','btc_avg_block_size','btc_n_orphaned_blocks','btc_n_transactions_per_block','btc_median_confirmation_time','btc_hash_rate','btc_cost_per_transaction_percent','btc_cost_per_transaction','btc_n_unique_addresses','btc_n_transactions','btc_n_transactions_total','btc_n_transactions_excluding_popular','btc_n_transactions_excluding_chains_longer_than_100','btc_output_volume','btc_estimated_transaction_volume','btc_estimated_transaction_volume_usd'], y_vars = ['btc_market_price'])"
   ]
  },
  {
   "cell_type": "markdown",
   "metadata": {},
   "source": [
    "# Data cleaning"
   ]
  },
  {
   "cell_type": "code",
   "execution_count": 8,
   "metadata": {},
   "outputs": [
    {
     "data": {
      "text/plain": [
       "Date                                                    0\n",
       "btc_market_price                                        0\n",
       "btc_total_bitcoins                                     27\n",
       "btc_market_cap                                          0\n",
       "btc_trade_volume                                       21\n",
       "btc_blocks_size                                        29\n",
       "btc_avg_block_size                                      0\n",
       "btc_n_orphaned_blocks                                   0\n",
       "btc_n_transactions_per_block                            0\n",
       "btc_median_confirmation_time                           12\n",
       "btc_hash_rate                                           0\n",
       "btc_difficulty                                         16\n",
       "btc_miners_revenue                                      0\n",
       "btc_transaction_fees                                   10\n",
       "btc_cost_per_transaction_percent                        0\n",
       "btc_cost_per_transaction                                0\n",
       "btc_n_unique_addresses                                  0\n",
       "btc_n_transactions                                      0\n",
       "btc_n_transactions_total                                0\n",
       "btc_n_transactions_excluding_popular                    0\n",
       "btc_n_transactions_excluding_chains_longer_than_100     0\n",
       "btc_output_volume                                       0\n",
       "btc_estimated_transaction_volume                        0\n",
       "btc_estimated_transaction_volume_usd                    0\n",
       "dtype: int64"
      ]
     },
     "execution_count": 8,
     "metadata": {},
     "output_type": "execute_result"
    }
   ],
   "source": [
    "df.isna().sum()"
   ]
  },
  {
   "cell_type": "code",
   "execution_count": 9,
   "metadata": {},
   "outputs": [],
   "source": [
    "df.btc_total_bitcoins=df.btc_total_bitcoins.fillna(df.btc_total_bitcoins.mean())\n",
    "df.btc_trade_volume =df.btc_trade_volume .fillna(df.btc_trade_volume .mean())\n",
    "df.btc_blocks_size=df.btc_blocks_size.fillna(df.btc_blocks_size.mean())\n",
    "df.btc_median_confirmation_time=df.btc_median_confirmation_time.fillna(df.btc_median_confirmation_time.mean())\n",
    "df.btc_difficulty=df.btc_difficulty.fillna(df.btc_difficulty.mean())\n",
    "df.btc_transaction_fees=df.btc_transaction_fees.fillna(df.btc_transaction_fees.mean())"
   ]
  },
  {
   "cell_type": "code",
   "execution_count": 10,
   "metadata": {},
   "outputs": [
    {
     "data": {
      "text/plain": [
       "Date                                                   0\n",
       "btc_market_price                                       0\n",
       "btc_total_bitcoins                                     0\n",
       "btc_market_cap                                         0\n",
       "btc_trade_volume                                       0\n",
       "btc_blocks_size                                        0\n",
       "btc_avg_block_size                                     0\n",
       "btc_n_orphaned_blocks                                  0\n",
       "btc_n_transactions_per_block                           0\n",
       "btc_median_confirmation_time                           0\n",
       "btc_hash_rate                                          0\n",
       "btc_difficulty                                         0\n",
       "btc_miners_revenue                                     0\n",
       "btc_transaction_fees                                   0\n",
       "btc_cost_per_transaction_percent                       0\n",
       "btc_cost_per_transaction                               0\n",
       "btc_n_unique_addresses                                 0\n",
       "btc_n_transactions                                     0\n",
       "btc_n_transactions_total                               0\n",
       "btc_n_transactions_excluding_popular                   0\n",
       "btc_n_transactions_excluding_chains_longer_than_100    0\n",
       "btc_output_volume                                      0\n",
       "btc_estimated_transaction_volume                       0\n",
       "btc_estimated_transaction_volume_usd                   0\n",
       "dtype: int64"
      ]
     },
     "execution_count": 10,
     "metadata": {},
     "output_type": "execute_result"
    }
   ],
   "source": [
    "df.isna().sum()"
   ]
  },
  {
   "cell_type": "code",
   "execution_count": 11,
   "metadata": {},
   "outputs": [
    {
     "data": {
      "text/plain": [
       "array([  0.       ,   0.26     ,   9.35     , ..., 145.7511292,\n",
       "       160.3009039, 162.2062363])"
      ]
     },
     "execution_count": 11,
     "metadata": {},
     "output_type": "execute_result"
    }
   ],
   "source": [
    "df.btc_transaction_fees.unique()"
   ]
  },
  {
   "cell_type": "code",
   "execution_count": 12,
   "metadata": {},
   "outputs": [
    {
     "data": {
      "text/plain": [
       "array([0.00000000e+00, 2.87932825e+05, 2.77566600e+05, ...,\n",
       "       1.90000000e+11, 1.98000000e+11, 1.71000000e+11])"
      ]
     },
     "execution_count": 12,
     "metadata": {},
     "output_type": "execute_result"
    }
   ],
   "source": [
    "df.btc_market_cap.unique()"
   ]
  },
  {
   "cell_type": "code",
   "execution_count": 15,
   "metadata": {},
   "outputs": [
    {
     "data": {
      "text/plain": [
       "array([[0.00000000e+00, 2.44000000e+02, 0.00000000e+00, ...,\n",
       "        2.52773821e+00, 2.92000000e-05, 3.17810222e+01],\n",
       "       [0.00000000e+00, 2.35000000e+02, 0.00000000e+00, ...,\n",
       "        2.52773821e+00, 2.88000000e-05, 1.54463801e+02],\n",
       "       [0.00000000e+00, 1.83000000e+02, 0.00000000e+00, ...,\n",
       "        2.52773821e+00, 2.25000000e-05, 1.27851663e+03],\n",
       "       ...,\n",
       "       [1.89000000e+11, 2.32176000e+05, 2.16516368e+07, ...,\n",
       "        2.60000000e+12, 1.91511518e+07, 1.24301173e+00],\n",
       "       [1.71000000e+11, 2.36609000e+05, 2.21248740e+07, ...,\n",
       "        2.60000000e+12, 2.16097456e+07, 1.30114347e+00],\n",
       "       [1.70000000e+11, 2.04276000e+05, 1.58405834e+07, ...,\n",
       "        2.60000000e+12, 1.51397619e+07, 1.01628408e+00]])"
      ]
     },
     "execution_count": 15,
     "metadata": {},
     "output_type": "execute_result"
    }
   ],
   "source": [
    "x=df[['btc_market_cap','btc_n_transactions','btc_miners_revenue','btc_cost_per_transaction','btc_difficulty','btc_hash_rate','btc_cost_per_transaction_percent']].values\n",
    "x"
   ]
  },
  {
   "cell_type": "code",
   "execution_count": 16,
   "metadata": {},
   "outputs": [
    {
     "data": {
      "text/plain": [
       "0           0.00000\n",
       "1           0.00000\n",
       "2           0.00000\n",
       "3           0.00000\n",
       "4           0.00000\n",
       "           ...     \n",
       "2901    11524.77667\n",
       "2902    11765.71000\n",
       "2903    11212.65500\n",
       "2904    10184.06167\n",
       "2905    10125.01333\n",
       "Name: btc_market_price, Length: 2906, dtype: float64"
      ]
     },
     "execution_count": 16,
     "metadata": {},
     "output_type": "execute_result"
    }
   ],
   "source": [
    "y=df.btc_market_price\n",
    "y"
   ]
  },
  {
   "cell_type": "markdown",
   "metadata": {},
   "source": [
    "# training and testing the data"
   ]
  },
  {
   "cell_type": "code",
   "execution_count": 17,
   "metadata": {},
   "outputs": [],
   "source": [
    "from sklearn.model_selection import train_test_split\n",
    "x_train,x_test,y_train,y_test=train_test_split(x,y,test_size=0.2,random_state=10)"
   ]
  },
  {
   "cell_type": "code",
   "execution_count": 18,
   "metadata": {},
   "outputs": [
    {
     "data": {
      "text/plain": [
       "2324"
      ]
     },
     "execution_count": 18,
     "metadata": {},
     "output_type": "execute_result"
    }
   ],
   "source": [
    "len(x_train)"
   ]
  },
  {
   "cell_type": "markdown",
   "metadata": {},
   "source": [
    "# Model formulation and prediction"
   ]
  },
  {
   "cell_type": "code",
   "execution_count": 27,
   "metadata": {},
   "outputs": [
    {
     "data": {
      "text/plain": [
       "LinearRegression()"
      ]
     },
     "execution_count": 27,
     "metadata": {},
     "output_type": "execute_result"
    }
   ],
   "source": [
    "from sklearn.linear_model import LinearRegression\n",
    "regr=LinearRegression()\n",
    "regr.fit(x_train,y_train)"
   ]
  },
  {
   "cell_type": "code",
   "execution_count": 28,
   "metadata": {},
   "outputs": [
    {
     "data": {
      "text/plain": [
       "array([ 1.15579783e+03,  8.35617243e-02,  1.17756960e+00,  3.32189502e+03,\n",
       "       -4.68909801e+00,  2.67983779e+02, -1.32633824e+01,  4.80249531e+02,\n",
       "        1.02720001e+02,  8.79197639e+02,  1.10977904e+01, -9.94045814e+00,\n",
       "        7.22498443e+01,  4.36864402e+02,  2.20529542e+01,  1.36590694e+01,\n",
       "        9.48413627e+00,  1.13949439e+02,  6.23703573e+02,  8.23493030e+00,\n",
       "        1.11948563e+04,  6.36837701e+00,  6.17787262e+02,  7.56713171e+00,\n",
       "        6.62430596e+02,  2.32890729e+02,  2.66087761e+01,  6.73263779e+02,\n",
       "        1.40813522e+01,  7.89857947e+02,  4.28816446e+02,  2.71271092e+03,\n",
       "        3.97263285e+00, -2.18798265e+00,  2.49454982e+02,  5.68027892e+03,\n",
       "        2.62731317e+02,  1.27108845e+02,  2.45127307e+01,  2.28366593e+02,\n",
       "        1.22195347e-01,  9.26226543e+01,  2.25124802e+02,  8.13416375e+01,\n",
       "        2.53415856e+01,  4.89327460e+02,  5.08987244e+00,  5.92500067e+02,\n",
       "        1.13562196e+02,  2.28224452e+02,  1.19385735e+02,  2.68551657e+02,\n",
       "        7.06881556e+02, -1.25314070e+01, -8.47376149e+00,  1.68271623e+01,\n",
       "        1.11319655e+02, -9.25359717e+00,  2.41602115e+02,  4.85459624e+02,\n",
       "        1.30599977e+01,  6.14854603e+02,  1.42131142e+01,  1.02671980e+01,\n",
       "        2.59892004e+02,  1.01278734e+04,  1.01706335e+02,  5.99712613e+02,\n",
       "        7.94996186e+00,  6.19698226e+02, -3.17874650e+00, -1.32219061e+01,\n",
       "        9.69631653e+00,  8.04158406e+02,  1.32117461e+01,  6.76898997e+02,\n",
       "        1.74440132e+00, -1.32002345e+01,  1.19757402e+01,  7.25269037e+01,\n",
       "        1.14082963e+00,  4.37194200e+02,  1.95781987e+00,  6.64864733e+03,\n",
       "        3.44719655e+00,  8.12800836e+00,  1.19528326e+03,  5.55778932e+02,\n",
       "        9.10086909e+02,  1.13392724e+01,  5.86391014e+01,  4.85814720e+02,\n",
       "       -1.32499550e+01,  1.18593445e+02, -5.44618435e+00,  2.64461683e+02,\n",
       "       -1.27014260e-01,  7.97826796e+02,  6.74818065e+00,  2.32989216e+02,\n",
       "        2.74263736e+01,  6.78878433e+02, -7.13812864e+00,  3.39796194e+02,\n",
       "        2.95212038e+02,  4.51860148e+02,  9.60795058e+00,  6.41212325e+00,\n",
       "        3.23020257e+02,  9.68389393e+01,  2.79653068e+02,  4.66869769e+02,\n",
       "        2.33380791e+02,  6.09385026e+02,  1.02251926e+01,  7.54745298e+02,\n",
       "        7.92407728e+02, -1.28222840e+01,  7.94128048e+02,  2.55515370e+02,\n",
       "        4.57030189e+01,  7.54036621e+02,  5.97941320e+02, -9.95106138e+00,\n",
       "        3.80526749e+02,  9.94767814e+00,  3.59080297e+02,  1.03290476e+01,\n",
       "        3.81103743e+00,  1.28599734e+02,  5.68212448e+02,  4.03799219e+00,\n",
       "        9.98526372e+00,  3.99074964e+02,  3.78377056e+02,  8.37059258e+02,\n",
       "        6.51335669e+02,  1.06146627e+03,  2.50955882e+03,  1.89046519e+03,\n",
       "        8.42574122e+00,  9.35392950e+00,  2.45543760e+02,  6.35246227e+02,\n",
       "        2.76739097e+02,  3.38910476e+02,  4.32805799e+02,  7.61145844e+02,\n",
       "        9.72849724e-01,  4.92703061e+01,  5.66760957e+02,  6.36725231e+02,\n",
       "        7.84528663e+02, -8.14866877e+00,  1.13379714e+02,  3.03563298e+02,\n",
       "       -1.32609956e+01,  1.23587679e+01,  4.57585258e+02,  3.38605700e+02,\n",
       "        3.44114329e+02,  1.10181844e+01,  4.69262014e+02,  5.98805977e+02,\n",
       "        9.05291877e+02, -6.92701320e+00, -1.73737778e+00,  2.46712712e+01,\n",
       "        2.14689373e+01,  1.23273381e+03,  2.67350226e+02, -1.32257263e+01,\n",
       "        2.81900383e+03,  1.00792101e+03,  6.00039999e+00, -1.32341336e+01,\n",
       "        3.38602990e+02,  4.38669765e+02,  5.90144920e+02,  6.91147686e+02,\n",
       "        3.62123197e+03,  1.22474712e+02, -1.32998774e+01,  4.29045054e+02,\n",
       "       -5.93787214e+00,  4.37031687e+02,  4.03036914e+02,  2.93297289e+02,\n",
       "        2.44043049e+02,  1.37148280e+02,  2.44819575e+02,  5.91699452e+02,\n",
       "        7.71408642e+02,  2.62153046e+00,  7.77266274e+03,  4.23990049e+02,\n",
       "        7.57130236e+02,  4.56302330e+02,  1.13911720e+01,  1.50541642e+01,\n",
       "        3.95093317e+02,  3.49030279e+02,  1.39622273e+01,  1.52359917e+04,\n",
       "        1.52815481e+03,  1.04681092e+01,  6.80555245e+02,  2.24157581e+02,\n",
       "        1.65148167e+01,  4.65091938e+02,  1.40508495e+01, -1.32665963e+01,\n",
       "        3.51971206e+02,  3.59422255e+02,  2.11708960e+01,  1.03550715e+01,\n",
       "        6.58741099e+02,  1.14958899e+04,  5.54324102e+02,  8.04442720e+03,\n",
       "        3.42125575e+02,  3.77957509e+02,  2.58803405e+02,  6.22948186e+02,\n",
       "        6.14415809e+02,  1.00673865e+02,  1.26772586e+01,  1.25938809e+02,\n",
       "        2.28839100e+02,  2.82648027e+02,  3.14978746e+01,  2.82380972e+02,\n",
       "        6.24947485e+02,  1.32798557e+01,  2.44560295e+00,  1.27620780e+01,\n",
       "        1.81216225e+03,  4.31955568e+01,  2.02756244e+02,  3.31936018e+01,\n",
       "        4.27815868e+02,  4.65071569e+02,  6.27634153e+02,  2.61077556e+01,\n",
       "        1.13723862e+04,  7.86515306e+00, -8.12475000e+00,  4.20787880e+01,\n",
       "        1.78892170e+01,  1.07059419e+01,  3.74472413e+01,  1.43113699e+01,\n",
       "        3.94413746e+02,  2.34264716e+02,  3.64287882e+02,  4.28348605e+02,\n",
       "        1.33273105e+01,  3.40115365e+02,  1.24928278e+01, -1.32849334e+01,\n",
       "        1.79093716e+02,  4.06476039e+03, -1.16998205e+01,  9.63816424e+02,\n",
       "        1.30778821e+04, -4.30242291e+00,  5.27717092e+02,  3.80369121e+01,\n",
       "        5.55683063e+02,  1.25328940e+01,  1.09600841e+02,  3.12951631e+01,\n",
       "        6.15470631e+02,  2.34272534e+00,  1.13346132e+02, -1.32670665e+01,\n",
       "        1.24090265e+02,  6.02231454e+02,  3.70456042e+02,  3.61696020e+02,\n",
       "        1.03236891e+02,  2.28699885e+01,  9.11562923e+02,  8.73571190e+02,\n",
       "        4.56630603e+01,  8.82003901e+00,  5.99717779e+00, -2.18054928e+00,\n",
       "        2.81761168e+02,  9.39889003e+01,  1.34356464e+02, -1.32675799e+01,\n",
       "        3.38130827e+02,  2.93770007e+03,  7.48071664e+00,  6.26521781e+02,\n",
       "        4.74654364e+03,  7.32625551e+02, -1.32918107e+01,  2.27482688e+03,\n",
       "        2.33093310e+02,  6.41869359e+02,  4.76842455e+02,  1.19482770e+03,\n",
       "        4.77453157e+01,  8.79160624e+01,  1.12966309e+02, -1.32847097e+01,\n",
       "        2.15154455e+03,  1.01978905e+01,  6.22544313e+02, -1.22312297e+01,\n",
       "        7.45287283e+00,  1.13266383e+01, -1.32684784e+01,  6.30444728e+02,\n",
       "        4.24806603e+02,  4.02872956e+02,  4.19292140e+02,  9.02926371e+02,\n",
       "        4.92667373e+02,  7.53360075e+02,  4.19660792e+03, -1.32926187e+01,\n",
       "        2.43845445e+02,  6.23165530e+02,  6.61353614e+02,  1.07042682e+01,\n",
       "        8.32851900e+02,  1.30854979e+02,  2.66513277e+02,  1.29855438e+02,\n",
       "        2.64553216e+00,  5.88407907e+02,  9.85628440e+02,  6.88531193e+02,\n",
       "        8.97602838e+02,  1.05001069e+02, -1.81759343e+00,  2.65123545e+02,\n",
       "        2.24392105e+02,  5.40985531e+02,  5.55508688e+02, -1.30577258e+01,\n",
       "        1.30658117e+01,  4.59020848e+01,  1.17356978e+01,  8.07605627e+00,\n",
       "        4.41951812e+02,  1.03773331e+01,  2.70368609e+03,  1.00992164e+01,\n",
       "        5.81888137e+02,  6.10025096e+02,  3.90601968e+02,  4.16880747e+00,\n",
       "        3.90921058e+02,  8.48858017e+01, -1.31643011e+01,  4.26734078e+02,\n",
       "        9.89902814e+02,  7.43929504e+02,  3.45286680e+02,  3.94574421e+02,\n",
       "        3.32004815e+00,  5.70084805e+02, -1.32677106e+01,  3.05311018e+01,\n",
       "        4.37570254e+03,  6.80478747e+02,  4.34820133e+02,  2.49437998e+02,\n",
       "        7.85618924e+00,  1.25128655e+01,  9.19111728e+01, -1.28167561e+01,\n",
       "        5.52688903e+00,  1.36931738e+00,  6.59511321e+00,  2.51855013e+03,\n",
       "        1.39235525e+02,  6.36009251e+02,  7.14401576e+02, -1.32962167e+01,\n",
       "        4.14343828e+03,  2.99106392e+02,  2.08418654e+03,  2.35970434e+02,\n",
       "        2.81371454e+02,  6.37963347e+02,  2.54963000e+02,  2.41411261e+02,\n",
       "        6.45681898e+02, -6.81806277e+00, -8.48940820e+00,  4.06946191e+02,\n",
       "        8.53349402e-01, -7.61751635e+00,  6.14184409e+02,  4.92675169e+02,\n",
       "        1.04369053e+01,  4.05213021e+02,  2.37128927e+02, -1.32765812e+01,\n",
       "        2.74390072e+02,  1.00627727e+03,  1.12788352e+01,  5.94945095e+02,\n",
       "       -8.04195991e+00,  5.30599010e+00,  1.30680211e+01, -1.32900285e+01,\n",
       "        2.95827817e+00,  2.78477968e+02,  2.45511704e+02,  5.19763314e+02,\n",
       "        3.90379098e+03,  9.20074412e+02,  7.83933158e+02,  7.26793170e+02,\n",
       "        7.56251663e+02,  2.33132206e+02,  1.90632589e+03,  4.53666893e+02,\n",
       "        2.58386806e+02,  3.67341477e+02,  2.31670170e+00,  3.43348045e+02,\n",
       "        2.37469835e+01,  4.35141984e+03,  1.05052894e+03, -1.32376178e+01,\n",
       "        2.50778540e+02, -2.02880413e+00, -1.32901913e+01,  3.42858566e+02,\n",
       "        1.22145426e+02,  6.14882793e+02,  1.23874100e+02,  5.78431483e+01,\n",
       "        4.72789463e+02,  2.14104869e+01,  8.30431432e+00,  4.68072813e+02,\n",
       "        3.13380012e+02,  3.02212297e+02,  2.42761517e+02,  2.93559382e+00,\n",
       "        7.39928160e+03, -9.59204005e+00, -1.32420459e+01,  9.38961587e+01,\n",
       "        2.65615768e+02, -3.88111812e+00,  5.95565224e+02,  4.10351493e+02,\n",
       "        1.17441372e+02,  1.24654019e+01,  8.17242911e+02,  5.98097394e+02,\n",
       "        4.17492681e-01,  9.51780467e+02,  1.28649937e+03,  5.71488247e+02,\n",
       "       -3.54278384e-01, -1.31616916e+01,  1.75896821e+02,  4.88316369e+02,\n",
       "        8.42412236e+00,  1.03982047e+01,  4.31024142e+03,  9.16859935e+02,\n",
       "       -1.32761679e+01, -1.32373732e+01,  6.04851353e+02,  3.52771308e+00,\n",
       "        2.49756529e+02, -1.29339026e+01,  1.03388157e+02,  3.92062838e+02,\n",
       "        1.00479210e+02,  1.15558011e+01,  6.22057949e+02,  4.31752871e+00,\n",
       "        1.08868882e+01,  1.02700099e+03,  9.07942966e+01,  4.68744442e+00,\n",
       "        5.93771744e+02,  6.32036080e+00,  4.56636601e+02,  9.43075400e+01,\n",
       "        6.30281830e+02,  7.77038779e+03,  5.65195276e+01, -4.49510398e+00,\n",
       "        2.32887720e+02,  2.33689863e+02,  4.68883494e+02,  1.33046308e+04,\n",
       "        4.15734019e+01,  1.45497597e+01,  1.23206883e+03,  1.34156364e+02,\n",
       "        3.72375557e+02,  1.50601802e+04,  2.34578791e+02,  7.91725606e+00,\n",
       "        2.37018446e+00,  1.24206823e+01, -1.32823211e+01, -8.94218075e+00,\n",
       "        4.35286258e+02, -5.18498039e+00,  4.28797467e+02, -1.32083300e+01,\n",
       "        4.20544784e+02,  4.80165219e+02,  1.00891824e+01,  2.39794319e+02,\n",
       "        9.96539307e+01,  9.17192169e+00, -1.32561163e+01, -1.32813527e+01,\n",
       "        1.56912243e+00,  1.63531785e+01,  2.20010050e+02,  1.31841499e+02,\n",
       "        4.36768779e+02,  9.18709446e+00,  3.82892544e+00,  6.08878673e+01,\n",
       "       -1.10492956e+01,  1.50502526e+01,  2.27165225e+00,  9.65555836e+01,\n",
       "        9.30461597e+02,  3.29497012e+02, -1.32464198e+01,  3.83236078e+02,\n",
       "        4.40427005e+02,  1.17369021e+01, -1.32365742e+01, -1.32659123e+01,\n",
       "        2.40583674e+02,  6.53756032e+02,  1.30865655e+01,  4.18211383e+02,\n",
       "        1.05876395e+03,  8.58363552e+00,  2.02008755e+01,  3.83854687e+02,\n",
       "        5.67193820e+01, -1.32235825e+01,  1.04712024e+01,  5.66883985e+03,\n",
       "        7.51731329e+02, -1.32875908e+01,  3.54783797e+02,  3.23604616e+01,\n",
       "        4.01426029e+03,  9.14636487e+02,  1.23619457e+01,  1.28742047e+01,\n",
       "       -1.31444092e+01,  1.36036302e+01, -1.32501705e+01,  2.78189402e+03,\n",
       "        1.24197461e+01,  1.33553816e+01,  4.16032907e+03,  1.07650634e+02,\n",
       "       -3.40874280e+00,  3.57562018e+02, -1.32686375e+01,  5.47757233e+02,\n",
       "        4.63316913e+03,  1.22057802e+02,  3.65867159e+02,  2.83800081e+03,\n",
       "        9.76104334e+01,  6.88207135e+02])"
      ]
     },
     "execution_count": 28,
     "metadata": {},
     "output_type": "execute_result"
    }
   ],
   "source": [
    "y_pred=regr.predict(x_test)\n",
    "y_pred"
   ]
  },
  {
   "cell_type": "code",
   "execution_count": 29,
   "metadata": {},
   "outputs": [
    {
     "data": {
      "text/plain": [
       "2565    1150.605714\n",
       "210        0.175000\n",
       "814        5.031880\n",
       "2730    3357.326317\n",
       "404        0.857500\n",
       "           ...     \n",
       "1192     131.500000\n",
       "1703     382.830000\n",
       "2721    2866.431667\n",
       "1213     100.000000\n",
       "2326     675.186338\n",
       "Name: btc_market_price, Length: 582, dtype: float64"
      ]
     },
     "execution_count": 29,
     "metadata": {},
     "output_type": "execute_result"
    }
   ],
   "source": [
    "y_test"
   ]
  },
  {
   "cell_type": "code",
   "execution_count": 30,
   "metadata": {},
   "outputs": [
    {
     "data": {
      "text/plain": [
       "0.9998852136579195"
      ]
     },
     "execution_count": 30,
     "metadata": {},
     "output_type": "execute_result"
    }
   ],
   "source": [
    "regr.score(x_test,y_test)"
   ]
  },
  {
   "cell_type": "code",
   "execution_count": 31,
   "metadata": {},
   "outputs": [],
   "source": [
    "from sklearn.metrics import mean_squared_error, mean_absolute_error, r2_score"
   ]
  },
  {
   "cell_type": "code",
   "execution_count": 26,
   "metadata": {},
   "outputs": [
    {
     "data": {
      "text/plain": [
       "353.3812178318711"
      ]
     },
     "execution_count": 26,
     "metadata": {},
     "output_type": "execute_result"
    }
   ],
   "source": [
    "mse = mean_squared_error(y_test, y_pred)\n",
    "mse \n"
   ]
  }
 ],
 "metadata": {
  "kernelspec": {
   "display_name": "Python 3",
   "language": "python",
   "name": "python3"
  },
  "language_info": {
   "codemirror_mode": {
    "name": "ipython",
    "version": 3
   },
   "file_extension": ".py",
   "mimetype": "text/x-python",
   "name": "python",
   "nbconvert_exporter": "python",
   "pygments_lexer": "ipython3",
   "version": "3.8.5"
  }
 },
 "nbformat": 4,
 "nbformat_minor": 4
}
